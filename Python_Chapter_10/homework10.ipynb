{
 "cells": [
  {
   "cell_type": "markdown",
   "metadata": {},
   "source": [
    "# Homework 10"
   ]
  },
  {
   "cell_type": "markdown",
   "metadata": {},
   "source": [
    "This is based on chapter 9 of the course notes, and may introduce a few topics\n",
    "not mentioned there.\n",
    "\n",
    "You can also do the exercises at the bottom of the textbook chapter."
   ]
  },
  {
   "cell_type": "markdown",
   "metadata": {},
   "source": [
    "## Practice Question 1"
   ]
  },
  {
   "cell_type": "markdown",
   "metadata": {},
   "source": [
    "The file [votes.txt](votes.txt) contains the votes for major of Whoville. Each\n",
    "line contains the name of one candidate, which counts as one vote for that\n",
    "candidate.\n",
    "\n",
    "Write a program that uses dictionaries to answer these questions:\n",
    "- What's the total number of votes cast?\n",
    "- Who were the candidates?\n",
    "- How many votes did each candidate get? Print the results order from highest to\n",
    "  lowest number of votes.\n",
    "- Who won the election?\n",
    "\n",
    "Make the output look like the sample shown below. Your program should work with\n",
    "*any* list of names, no matter what they are or how many there are.\n",
    "\n",
    "Sample output:\n",
    "\n",
    "```\n",
    "Total Number of Votes\n",
    "10000\n",
    "\n",
    "The 10 candidates\n",
    " Augustus, Betty, Cindy, Drew, Euchariah, JoJo, Lou, Martha, Ned, Sally\n",
    "\n",
    "Votes\n",
    "  1079: Ned\n",
    "  1047: JoJo\n",
    "  1032: Sally\n",
    "  1017: Lou\n",
    "  999: Drew\n",
    "  974: Augustus\n",
    "  967: Betty\n",
    "  964: Euchariah\n",
    "  961: Cindy\n",
    "  960: Martha\n",
    "\n",
    "Winner\n",
    "  Ned wins with 1079 votes.\n",
    "```"
   ]
  },
  {
   "cell_type": "code",
   "execution_count": 27,
   "metadata": {},
   "outputs": [
    {
     "name": "stdout",
     "output_type": "stream",
     "text": [
      "Total Number of Votes: \n",
      " 10000 \n",
      "\n",
      "The 10 candidates\n",
      "Betty, Augustus, Cindy, Ned, Martha, Euchariah, Drew, Lou, Sally, JoJo\n",
      "\n",
      "Votes\n",
      "1079: Ned\n",
      "1047: JoJo\n",
      "1032: Sally\n",
      "1017: Lou\n",
      "999: Drew\n",
      "974: Augustus\n",
      "967: Betty\n",
      "964: Euchariah\n",
      "961: Cindy\n",
      "960: Martha\n",
      "\n",
      "Winner \n",
      "Ned wins with 1079 votes\n"
     ]
    }
   ],
   "source": [
    "# ... write your code here ...\n",
    "file = open(\"votes.txt\", \"r\")\n",
    "lines = file.readlines()\n",
    "\n",
    "votes = {}\n",
    "total_votes = 0\n",
    "\n",
    "for line in lines:\n",
    "    line = line.strip()\n",
    "    if line in votes:\n",
    "        votes[line] += 1\n",
    "\n",
    "    else:\n",
    "        votes[line] = 1\n",
    "    total_votes += 1\n",
    "    \n",
    "print(f\"Total Number of Votes: \\n {total_votes} \\n\")\n",
    "\n",
    "print(f\"The {len(votes)} candidates\")\n",
    "\n",
    "print(', '.join(votes.keys()) ) # Print candidate names\n",
    "\n",
    "# Key function to sort by value not key(ie. votes not candidate name)\n",
    "sorted_votes = sorted(votes.items(), key=lambda x: x[1], reverse=True) \n",
    "\n",
    "print(f\"\\nVotes\")\n",
    "\n",
    "for candidate, vote in sorted_votes:\n",
    "    print(f\"{vote}: {candidate}\")\n",
    "\n",
    "\n",
    "winner = max(votes, key=votes.get)\n",
    "print(f\"\\nWinner \\n{winner} wins with {votes[winner]} votes\")\n"
   ]
  },
  {
   "cell_type": "code",
   "execution_count": null,
   "metadata": {},
   "outputs": [],
   "source": []
  }
 ],
 "metadata": {
  "kernelspec": {
   "display_name": "Python 3",
   "language": "python",
   "name": "python3"
  },
  "language_info": {
   "codemirror_mode": {
    "name": "ipython",
    "version": 3
   },
   "file_extension": ".py",
   "mimetype": "text/x-python",
   "name": "python",
   "nbconvert_exporter": "python",
   "pygments_lexer": "ipython3",
   "version": "3.12.1"
  }
 },
 "nbformat": 4,
 "nbformat_minor": 2
}
