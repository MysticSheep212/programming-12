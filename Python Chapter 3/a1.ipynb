{
 "cells": [
  {
   "cell_type": "markdown",
   "metadata": {},
   "source": [
    "# Assignment 1\n",
    "\n",
    "This assignment is a set of practice problems to help you get familiar with\n",
    "Python and its environment. \n",
    "\n",
    "Please copy the following files to your computer, and for each question write\n",
    "your answers in the corresponding file: [q1.py](q1.py), [q2.py](q2.py),\n",
    "[q3.py](q3.py), and [q4.py](q4.py). To get all the files at once, download\n",
    "[a1_starting_files.zip](a1_starting_files.zip) and extract them to your\n",
    "computer.\n",
    "\n",
    "When you are ready to submit your answers, compress [q1.py](q1.py),\n",
    "[q2.py](q2.py), [q3.py](q3.py), and [q4.py](q4.py) into a .zip file named\n",
    "`a1.zip`, and submit just `a1.zip` on Canvas.\n",
    "\n",
    "> If you are unsure how to zip/unzip files, check here:\n",
    "> [Windows](https://support.microsoft.com/en-us/windows/zip-and-unzip-files-8d28fa72-f2f9-712f-67df-f80cf89fd4e5),\n",
    "> [Mac](https://support.apple.com/en-ca/guide/mac-help/mchlp2528/mac)\n",
    "> \n",
    "> If you run into problems, please talk to a TA, or post a question to the Tech\n",
    "> Support discussion in the 120 Canvas course.\n",
    "\n",
    "**Hint** f-strings and string arithmetic are need in some questions, and are\n",
    "explained at the end of this assignment."
   ]
  },
  {
   "cell_type": "markdown",
   "metadata": {},
   "source": [
    "## Question 1\n",
    "\n",
    "Put your answer to this question in [q1.py](q1.py).\n",
    "\n",
    "Write a program that asks the user for their name and age, and then prints a\n",
    "message saying how old they'll be in 25 years. Use **f-strings** to print the\n",
    "output.\n",
    "\n",
    "For example:\n",
    "\n",
    "```\n",
    "What's your name? Elon\n",
    "How old are you? 51\n",
    "\n",
    "Hi Elon! In 25 years it will be 2049 and you'll be 76 years old.\n",
    "```\n",
    "\n",
    "You don't need to do any error checking: assume a sensible name and integer\n",
    "age are entered."
   ]
  },
  {
   "cell_type": "markdown",
   "metadata": {},
   "source": [
    "## Question 2\n",
    "\n",
    "Put your answer to this question in [q2.py](q2.py).\n",
    "\n",
    "Write a program that converts feet $f$ to meters $m$ using the formula $m =\n",
    "0.3048 \\cdot f$. Ask the user to enter a measurement in feet, and then print it\n",
    "in meters:\n",
    "\n",
    "```\n",
    "How many feet? 21\n",
    "21.0 is about 6.4 meters\n",
    "```\n",
    "\n",
    "Use f-strings to format your output. It should work for any number the user\n",
    "enters. Make your output the same as shown. The value for both the feet and\n",
    "meters should be printed to *exactly* 1 decimal place.\n",
    "\n",
    "You can assume the user enters a valid number."
   ]
  },
  {
   "cell_type": "markdown",
   "metadata": {},
   "source": [
    "## Question 3\n",
    "\n",
    "Put your answer to this question in [q3.py](q3.py).\n",
    "\n",
    "Write a program that asks the user to enter a message and a box character, and\n",
    "then prints the message in a box made from that character. Print it in exactly\n",
    "the style shown in the examples.\n",
    "\n",
    "For example:\n",
    "\n",
    "```\n",
    "What do you want your sign to say? Code Carefully\n",
    "What character do you want for the box? !\n",
    "\n",
    "!!!!!!!!!!!!!!!!!!\n",
    "! Code Carefully !\n",
    "!!!!!!!!!!!!!!!!!!\n",
    "```\n",
    "\n",
    "Or:\n",
    "\n",
    "```\n",
    "What do you want your sign to say? SFU\n",
    "What character do you want for the box? %\n",
    "\n",
    "%%%%%%%\n",
    "% SFU %\n",
    "%%%%%%%\n",
    "```\n",
    "\n",
    "Make sure your box has *exactly* the same format as shown. Note that there is\n",
    "one space before the message, and one space after the message.\n",
    "\n",
    "Assume the user enters a single character for the box character."
   ]
  },
  {
   "cell_type": "markdown",
   "metadata": {},
   "source": [
    "## Question 4\n",
    "\n",
    "Put your answer to this question in [q4.py](q4.py).\n",
    "\n",
    "You are the programmer for the *CyberCone*, a company started by unemployed\n",
    "CyberTruck engineers. *CyberCone* sells *cybercones*, which are robot-assembled\n",
    "ice cream cones with any cone height and any number of scoops of ice cream. Part\n",
    "of the appeal is that the scoops are perfect spheres, and the cone is a perfect\n",
    "cone.\n",
    "\n",
    "For example, a 3-scoop cone with would look like this:\n",
    "\n",
    "![3-scoop cone](cybercone3_small.png)\n",
    "\n",
    "The total height is the height of the cone plus the height of the scoops and is\n",
    "given by this formula:\n",
    "\n",
    "$$\n",
    "\\begin{align*}\n",
    "\\text{total-height} &= \\text{cone-height} + (\\text{num-scoops} \\times 2 \\times \\text{scoop-radius})\n",
    "\\end{align*}\n",
    "$$\n",
    "\n",
    "It's assumed that each scoop has the same radius. \n",
    "\n",
    "The purchase cost, in dollars, of the cone is given by this formula:\n",
    "\n",
    "$$\n",
    "\\begin{align*}\n",
    "\\text{cost} &= (\\text{num-scoops} \\times \\text{scoop-volume} \\times 0.75) + (\\text{cone-volume} \\times 0.25)\n",
    "\\end{align*}\n",
    "$$\n",
    "\n",
    "$\\text{scoop-volume}$ is the volume of one scoop (all scoops have the same\n",
    "volume), and $\\text{cone-volume}$ is the volume of the cone.\n",
    "\n",
    "Your task is to write a program that asks the customer the following questions,\n",
    "and then prints the total height of the cone and the purchase cost:\n",
    " \n",
    "- **How many scoops do they want?** The choices are 1 or more.\n",
    "- **What is the radius of a scoop?** The scoops are perfect spheres, and the\n",
    "  radius is in centimeters. All scoops for this cone have the same radius.\n",
    "- **What is the height of the cone?** The height is in centimeters and greater\n",
    "  than 0.\n",
    "\n",
    "After getting this information the program then prints the total\n",
    "height and the purchase cost of the cone.\n",
    "\n",
    "Here is a sample run:\n",
    "\n",
    "```\n",
    "+-----------------------+\n",
    "| Welcome to CyberCone! |\n",
    "+-----------------------+\n",
    "\n",
    "How many scoops do you want? 3\n",
    "Ok, 3 scoops it is.\n",
    "\n",
    "What is the radius of a scoop in cm? 2.1\n",
    "Each scoop is radius 2.10cm\n",
    "\n",
    "What is the height of the cone in cm? 4.22\n",
    "Cone height is 4.22cm\n",
    "\n",
    "        Cost of your 3-scoop cone: $92.16\n",
    "Total height of your 3-scoop cone: 16.82cm\n",
    "```\n",
    "\n",
    "Some important details:\n",
    "\n",
    "- Print the title box at the top exactly as shown.\n",
    "- You can assume that the numbers entered by the user are always sensible, i.e.\n",
    "  the number of scoops is an integer greater than 0, and the scoop radius and\n",
    "  cone height are greater than 0.\n",
    "- The scoop radius, cone height, and cost should all be printed to *exactly* 2\n",
    "  decimal digits, as shown in the example. \n",
    "- The formulas for the volumes of spheres and cones can be found online."
   ]
  },
  {
   "cell_type": "markdown",
   "metadata": {},
   "source": [
    "## Question 5"
   ]
  },
  {
   "cell_type": "markdown",
   "metadata": {},
   "source": [
    "The `rand_char()` function *returns* either a `/` or `\\` character:"
   ]
  },
  {
   "cell_type": "code",
   "execution_count": 41,
   "metadata": {},
   "outputs": [
    {
     "name": "stdout",
     "output_type": "stream",
     "text": [
      "///\\"
     ]
    }
   ],
   "source": [
    "def rand_char():\n",
    "    import random\n",
    "    return random.choice('/\\\\')\n",
    "\n",
    "print(rand_char(), end='')\n",
    "print(rand_char(), end='')\n",
    "print(rand_char(), end='')\n",
    "print(rand_char(), end='')"
   ]
  },
  {
   "cell_type": "markdown",
   "metadata": {},
   "source": [
    "The `end=''` part of of the print statement is how you print without a newline. \n",
    "\n",
    "Write a program that asks the user to enter an integer $n > 0$, and then prints\n",
    "$n$ rows of characters, where each row of characters consists of $2n$ characters\n",
    "from `rand_char()`.\n",
    "\n",
    "For example, if the user enters 3, then the output would be 3 lines of 6\n",
    "characters each:\n",
    "\n",
    "```\n",
    "///\\\\\\\n",
    "\\/\\\\\\/\n",
    "\\\\\\\\\\/\n",
    "```\n",
    "\n",
    "Every time you run it you will get a different pattern:\n",
    "\n",
    "```\n",
    "\\//\\\\/\n",
    "\\\\////\n",
    "//\\\\\\/\n",
    "```\n",
    "\n",
    "For $n=10$ there should be 10 lines each with 20 characters:\n",
    "\n",
    "```\n",
    "\\//\\//////\\/\\\\///\\/\\\n",
    "////\\/\\\\/\\\\/\\//\\////\n",
    "\\\\/\\//\\\\//\\/\\\\\\\\\\//\\\n",
    "\\//\\//\\//\\///\\\\//\\\\/\n",
    "\\\\/\\//\\///\\\\\\/\\\\//\\/\n",
    "/\\/\\\\\\///\\\\\\/\\/\\\\\\\\/\n",
    "\\//\\\\/////\\/\\/\\\\\\\\\\\\\n",
    "\\/\\/\\////////\\\\////\\\n",
    "\\\\\\\\\\\\\\////\\/\\\\\\\\//\\\n",
    "////\\\\/\\//////\\\\\\/\\\\\n",
    "```\n"
   ]
  },
  {
   "cell_type": "markdown",
   "metadata": {},
   "source": [
    "## Marking Scheme\n",
    "\n",
    "**2 marks** for question 1: 1 for correctness, 1 for using f-strings properly\n",
    "\n",
    "**2 marks** for question 2: 1 for correctness, 1 for using f-strings properly\n",
    "\n",
    "**2 marks** for question 3: 1 for correctness, 1 for using string arithmetic\n",
    "properly\n",
    "\n",
    "**5 marks** for question 4:\n",
    "- **1 mark** for a title box that looks like the one in the sample output\n",
    "- **1 mark** for correctly asking for the number of scoops, radius, an height.\n",
    "  The prompts should be as shown in the sample output.\n",
    "- **2 marks** for correctly calculating the cost and total height\n",
    "- **1 mark** for correctly formatting the radius, cost, and height to exactly 2\n",
    "  decimal places\n",
    "\n",
    "**4 marks** for question 5:\n",
    "- **1 mark** for asking for the number of rows correctly\n",
    "- **1 mark** for print $n$ rows of $2n$ `rand_char()` characters each\n",
    "- **2 marks** for correctly printing the grid of characters\n",
    "\n",
    "**1 mark** overall: consistent indentation and spacing (all blank lines and\n",
    "spaces should have a good reason for being there)\n",
    "\n",
    "**1 mark** overall: all variable names are self-descriptive\n",
    "\n",
    "**1 mark** overall: the length of all lines are less than, or equal to, 100\n",
    "characters"
   ]
  },
  {
   "cell_type": "markdown",
   "metadata": {},
   "source": [
    "## Notes"
   ]
  },
  {
   "cell_type": "markdown",
   "metadata": {},
   "source": [
    "### Printing with f-strings\n",
    "\n",
    "This program says *hello* to the user:"
   ]
  },
  {
   "cell_type": "code",
   "execution_count": 1,
   "metadata": {},
   "outputs": [
    {
     "name": "stdout",
     "output_type": "stream",
     "text": [
      "Hello Bob !\n"
     ]
    }
   ],
   "source": [
    "name = input(\"What's your name? \")\n",
    "print(\"Hello\", name, \"!\")"
   ]
  },
  {
   "cell_type": "markdown",
   "metadata": {},
   "source": [
    "Notice the space before the `!`. When you use commas in a `print` statement,\n",
    "they always add this extra space.\n",
    "\n",
    "A more flexible way of printing in Python is to use an **f-string**:"
   ]
  },
  {
   "cell_type": "code",
   "execution_count": 2,
   "metadata": {},
   "outputs": [
    {
     "name": "stdout",
     "output_type": "stream",
     "text": [
      "Hello Elon!\n"
     ]
    }
   ],
   "source": [
    "name = input(\"What's your name? \")\n",
    "print(f\"Hello {name}!\")"
   ]
  },
  {
   "cell_type": "markdown",
   "metadata": {},
   "source": [
    "An f-string is a regular Python string that starts with `f`. Any variable or\n",
    "expression that appears inside `{}` curly braces is evaluated and its result is\n",
    "put into the string at that position. An f-string is like a template, and in\n",
    "practice they are a common way to make formatted strings."
   ]
  },
  {
   "cell_type": "markdown",
   "metadata": {},
   "source": [
    "### Number precision with f-strings\n",
    "\n",
    "Consider this program:"
   ]
  },
  {
   "cell_type": "code",
   "execution_count": 3,
   "metadata": {},
   "outputs": [
    {
     "name": "stdout",
     "output_type": "stream",
     "text": [
      "x = 12.3456\n"
     ]
    }
   ],
   "source": [
    "x = 12.3456\n",
    "print(f'x = {x}')"
   ]
  },
  {
   "cell_type": "markdown",
   "metadata": {},
   "source": [
    "There are 4 digits after the decimal point. But what if you only want 2 digits?\n",
    "You can do that like this:"
   ]
  },
  {
   "cell_type": "code",
   "execution_count": 4,
   "metadata": {},
   "outputs": [
    {
     "name": "stdout",
     "output_type": "stream",
     "text": [
      "x = 12.35\n"
     ]
    }
   ],
   "source": [
    "x = 12.3456\n",
    "print(f'x = {x:.2f}')"
   ]
  },
  {
   "cell_type": "markdown",
   "metadata": {},
   "source": [
    "When we write `{x:.2f}`, the `.2` means to put exactly two digits after the\n",
    "decimal point, and the `f` means to format the number in regular floating point\n",
    "style. Notice also that the last digit has been *rounded up*.\n",
    "\n",
    "If you want more digits after the decimal than the number has, 0s are added.\n",
    "For example:"
   ]
  },
  {
   "cell_type": "code",
   "execution_count": 5,
   "metadata": {},
   "outputs": [
    {
     "name": "stdout",
     "output_type": "stream",
     "text": [
      "x = 12.3456000\n"
     ]
    }
   ],
   "source": [
    "x = 12.3456\n",
    "print(f'x = {x:.7f}')"
   ]
  },
  {
   "cell_type": "markdown",
   "metadata": {},
   "source": [
    "Three `0`s were automatically added to make exactly 7 digits after the decimal."
   ]
  },
  {
   "cell_type": "markdown",
   "metadata": {},
   "source": [
    "### Comma Grouping with f-strings\n",
    "\n",
    "f-strings make it easy to write numbers in style that uses commas to group three\n",
    "digits together:"
   ]
  },
  {
   "cell_type": "code",
   "execution_count": 6,
   "metadata": {},
   "outputs": [
    {
     "name": "stdout",
     "output_type": "stream",
     "text": [
      "cost is $1391.25\n",
      "cost is $1,391.25\n",
      "cost is $348,355,303.23\n"
     ]
    }
   ],
   "source": [
    "cost = 1391.25\n",
    "print(f'cost is ${cost:.2f}')  # cost is $1391.25\n",
    "print(f'cost is ${cost:,.2f}') # cost is $1,391.25,  note the , after the :\n",
    "\n",
    "cost = 348355303.232\n",
    "print(f'cost is ${cost:,.2f}')   # cost is $348,355,303.23, note the , after the :"
   ]
  },
  {
   "cell_type": "markdown",
   "metadata": {},
   "source": [
    "### String Arithmetic\n",
    "\n",
    "Here are some string operations that will help with this assignment:"
   ]
  },
  {
   "cell_type": "code",
   "execution_count": 7,
   "metadata": {},
   "outputs": [
    {
     "name": "stdout",
     "output_type": "stream",
     "text": [
      "7\n",
      "4\n",
      "hamsterfood\n",
      "hamster food\n",
      "foodfoodfood\n",
      "foodfoodfood!\n",
      "food!food!food!\n",
      "hamster\n",
      "-------\n"
     ]
    }
   ],
   "source": [
    "s = 'hamster'\n",
    "t = 'food'\n",
    "\n",
    "print(len(s))  # 7, characters in s\n",
    "print(len(t))  # 4, characters in t                   \n",
    "\n",
    "print(s + t)        # 'hamsterfood', + adds two strings\n",
    "print(s + \" \" + t)  # 'hamster food'\n",
    "\n",
    "print(3 * t)          # 'foodfoodfood', t repeated 3 times\n",
    "print(3 * t + '!')    # 'foodfoodfood!'\n",
    "print(3 * (t + '!'))  # 'food!food!food!'\n",
    "\n",
    "title = s + '\\n' + len(s)*'-'  # 'hamster\\n-------'\n",
    "print(title) # hamster\n",
    "             # -------"
   ]
  }
 ],
 "metadata": {
  "kernelspec": {
   "display_name": "Python 3",
   "language": "python",
   "name": "python3"
  },
  "language_info": {
   "codemirror_mode": {
    "name": "ipython",
    "version": 3
   },
   "file_extension": ".py",
   "mimetype": "text/x-python",
   "name": "python",
   "nbconvert_exporter": "python",
   "pygments_lexer": "ipython3",
   "version": "3.8.10"
  }
 },
 "nbformat": 4,
 "nbformat_minor": 2
}
