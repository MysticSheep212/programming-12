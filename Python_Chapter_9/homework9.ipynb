{
 "cells": [
  {
   "cell_type": "markdown",
   "metadata": {},
   "source": [
    "# Homework 9"
   ]
  },
  {
   "cell_type": "markdown",
   "metadata": {},
   "source": [
    "This is based on chapter 9 of the course notes, and may introduce a few topics\n",
    "not mentioned there.\n",
    "\n",
    "You can also do the exercises at the bottom of the textbook chapter."
   ]
  },
  {
   "cell_type": "markdown",
   "metadata": {},
   "source": [
    "## Practice Question 1"
   ]
  },
  {
   "cell_type": "markdown",
   "metadata": {},
   "source": [
    "Write a program makes a list called `good_matches` of all the words in\n",
    "[words.txt](words.txt) with a sequence of three, or more, consecutive vowels in\n",
    "a row. \n",
    "\n",
    "For this question, the vowels are *a*, *e*, *i*, *o*, and *u*.\n",
    "\n",
    "Your program should find 1375 matching words in [words.txt](words.txt):\n",
    "\n",
    "```\n",
    "Found 1375 good words\n",
    " first 5: aboideau, aboideaus, aboideaux, aboiteau, aboiteaus\n",
    "middle 5: halloaed, halloaing, hallooed, hallooing, harmonious\n",
    "  last 5: zooid, zooidal, zooids, zouave, zouaves\n",
    "```"
   ]
  },
  {
   "cell_type": "code",
   "execution_count": null,
   "metadata": {},
   "outputs": [
    {
     "name": "stdout",
     "output_type": "stream",
     "text": [
      "Found 1375 good words\n",
      " first 5: aboideau, aboideaus, aboideaux, aboiteau, aboiteaus\n",
      "middle 5: halloaed, halloaing, hallooed, hallooing, harmonious\n",
      "  last 5: zooid, zooidal, zooids, zouave, zouaves\n"
     ]
    }
   ],
   "source": [
    "# ... write your code here ...\n",
    "matching_words = []\n",
    "with open('words.txt') as file:\n",
    "    words = file.read().splitlines()\n",
    "\n",
    "vowels = \"aeiou\"\n",
    "\n",
    "for word in words:\n",
    "    for i in range(len(word) - 2):\n",
    "        if word[i] in vowels and word[i + 1] in vowels and word[i + 2] in vowels:\n",
    "            matching_words.append(word)\n",
    "            break\n",
    "#\n",
    "# test code\n",
    "#\n",
    "\n",
    "print(f'Found {len(matching_words)} good words')\n",
    "\n",
    "print(f' first 5:', ', '.join(matching_words[:5]))\n",
    "print(f'middle 5:', ', '.join(matching_words[500:505]))\n",
    "print(f'  last 5:', ', '.join(matching_words[-5:]))"
   ]
  },
  {
   "cell_type": "markdown",
   "metadata": {},
   "source": [
    "## Practice Question 2"
   ]
  },
  {
   "cell_type": "markdown",
   "metadata": {},
   "source": [
    "Write a program that makes a list called `matching_words` of all the words in\n",
    "[words.txt](words.txt) where each vowel *a*, *e*, *i*, *o*, and *u* occurs\n",
    "exactly once, and they are also in alphabetical order.\n",
    "\n",
    "There are 5 such words in [words.txt](words.txt). For instance, one of the words\n",
    "is \"abstemious\"."
   ]
  },
  {
   "cell_type": "code",
   "execution_count": 12,
   "metadata": {},
   "outputs": [
    {
     "name": "stdout",
     "output_type": "stream",
     "text": [
      "Found 5 matching words\n",
      "abstemious, abstemiously, arsenious, facetious, facetiously\n"
     ]
    }
   ],
   "source": [
    "# ... write your code here ...\n",
    "matching_words = []\n",
    "with open('words.txt') as file:\n",
    "    words = file.read().splitlines()\n",
    "\n",
    "vowels = \"aeiou\"\n",
    "\n",
    "for word in words:\n",
    "    if all(word.count(vowel) == 1 for vowel in vowels):\n",
    "        vowel_sequence = ''.join([char for char in word if char in vowels])\n",
    "        if vowel_sequence == 'aeiou':\n",
    "            matching_words.append(word)\n",
    "#\n",
    "# test code\n",
    "#\n",
    "n = len(matching_words)\n",
    "print(f'Found {n} matching words')\n",
    "\n",
    "print(', '.join(matching_words))"
   ]
  },
  {
   "cell_type": "markdown",
   "metadata": {},
   "source": [
    "## Question 3"
   ]
  },
  {
   "cell_type": "markdown",
   "metadata": {},
   "source": [
    "Write a program that makes a list called `matching_words` of all the words in\n",
    "[words.txt](words.txt) where each vowel *a*, *e*, *i*, *o*, and *u* occurs\n",
    "exactly once, and they are also in *reverse* alphabetical order.\n",
    "\n",
    "There is only 1 such word in [words.txt](words.txt)."
   ]
  },
  {
   "cell_type": "code",
   "execution_count": null,
   "metadata": {},
   "outputs": [
    {
     "name": "stdout",
     "output_type": "stream",
     "text": [
      "Found 1 matching words\n",
      "uncomplimentary, foreal\n"
     ]
    }
   ],
   "source": [
    "# ... write your code here ...\n",
    "matching_words = []\n",
    "with open('words.txt') as file:\n",
    "    words = file.read().splitlines()\n",
    "\n",
    "vowels = \"aeiou\"\n",
    "\n",
    "for word in words:\n",
    "    if all(word.count(vowel) == 1 for vowel in vowels):\n",
    "        vowel_sequence = ''.join([c for c in word if c in vowels])\n",
    "        if vowel_sequence == vowels[::-1]:\n",
    "            matching_words.append(word)\n",
    "\n",
    "matching_words = sorted(matching_words, reverse=True)\n",
    "#\n",
    "# test code\n",
    "#\n",
    "n = len(matching_words)\n",
    "print(f'Found {n} matching words')\n",
    "print(', '.join(matching_words))"
   ]
  },
  {
   "cell_type": "code",
   "execution_count": 32,
   "metadata": {},
   "outputs": [
    {
     "name": "stdout",
     "output_type": "stream",
     "text": [
      "Dylan\n",
      "ynlaD\n",
      "5\n",
      "yl\n",
      "yes y is in name\n",
      "yes n is in name\n",
      "yes l is in name\n",
      "yes a is in name\n",
      "yes D is in name\n",
      "popped n from wordname\n",
      "wordname is now ['y', 'l', 'a', 'D']\n"
     ]
    }
   ],
   "source": [
    "#\n",
    "# Chapter 8, 9 quiz review\n",
    "#\n",
    "\n",
    "name = 'Dylan'\n",
    "print(name)\n",
    "word = ''.join(sorted(name, reverse=True))\n",
    "print(word)\n",
    "print(len(word))\n",
    "print(name[1:3])\n",
    "wordname = []\n",
    "for char in word:\n",
    "    if char in name:\n",
    "        print(f'yes {char} is in name')\n",
    "        wordname.append(char)\n",
    "    else:\n",
    "        print('nuhuh')\n",
    "        \n",
    "        \n",
    "        \n",
    "new_word = wordname.pop(1)\n",
    "print(f\"popped {new_word} from wordname\")\n",
    "print(f\"wordname is now {wordname}\")"
   ]
  }
 ],
 "metadata": {
  "kernelspec": {
   "display_name": "Python 3",
   "language": "python",
   "name": "python3"
  },
  "language_info": {
   "codemirror_mode": {
    "name": "ipython",
    "version": 3
   },
   "file_extension": ".py",
   "mimetype": "text/x-python",
   "name": "python",
   "nbconvert_exporter": "python",
   "pygments_lexer": "ipython3",
   "version": "3.12.1"
  }
 },
 "nbformat": 4,
 "nbformat_minor": 2
}
